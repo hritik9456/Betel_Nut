{
  "nbformat": 4,
  "nbformat_minor": 0,
  "metadata": {
    "colab": {
      "name": "Untitled1.ipynb",
      "provenance": [],
      "collapsed_sections": [],
      "machine_shape": "hm",
      "include_colab_link": true
    },
    "kernelspec": {
      "name": "python3",
      "display_name": "Python 3"
    },
    "accelerator": "TPU"
  },
  "cells": [
    {
      "cell_type": "markdown",
      "metadata": {
        "id": "view-in-github",
        "colab_type": "text"
      },
      "source": [
        "<a href=\"https://colab.research.google.com/github/hritik9456/Betel_Nut/blob/master/Untitled1.ipynb\" target=\"_parent\"><img src=\"https://colab.research.google.com/assets/colab-badge.svg\" alt=\"Open In Colab\"/></a>"
      ]
    },
    {
      "cell_type": "code",
      "metadata": {
        "id": "ntUCxyXmGWIA",
        "colab_type": "code",
        "outputId": "cbc618fc-81f1-48f5-ceae-bd26d2b5b1ee",
        "colab": {
          "base_uri": "https://localhost:8080/",
          "height": 34
        }
      },
      "source": [
        "import tensorflow as tf\n",
        "from tensorflow import keras\n",
        "from keras.models import Sequential\n",
        "from keras.layers import Dense, Dropout, Activation, Flatten\n",
        "from keras.optimizers import Adam\n",
        "#from keras.layers.normalization import BatchNormalization\n",
        "from keras.utils import np_utils\n",
        "from keras.layers import Conv2D, MaxPooling2D\n",
        "#from keras.layers.advanced_activations import LeakyReLU \n",
        "from keras.preprocessing.image import ImageDataGenerator\n",
        "#print(Y_train.shape)\n",
        "#Y_train = np_utils.to_categorical(Y_train,5)\n",
        "#Y_test = np_utils.to_categorical(Y_test,5)"
      ],
      "execution_count": 0,
      "outputs": [
        {
          "output_type": "stream",
          "text": [
            "Using TensorFlow backend.\n"
          ],
          "name": "stderr"
        }
      ]
    },
    {
      "cell_type": "code",
      "metadata": {
        "id": "D1NldZMXGcAI",
        "colab_type": "code",
        "outputId": "5dbb9696-bbc0-4bfa-87d0-21c4a56e4c95",
        "colab": {
          "base_uri": "https://localhost:8080/",
          "height": 89
        }
      },
      "source": [
        "\n",
        "Model = tf.keras.models.Sequential([\n",
        "                    tf.keras.layers.Conv2D(filters=32,kernel_size = (3,3),activation='relu',input_shape = (800,800,3)),\n",
        "                    tf.keras.layers.MaxPool2D(pool_size=(2,2)),\n",
        "                    tf.keras.layers.Conv2D(filters=64,kernel_size=(3,3),activation ='relu'),\n",
        "                    tf.keras.layers.MaxPool2D(pool_size =(2,2)),\n",
        "                    tf.keras.layers.Conv2D(filters=128,kernel_size=(3,3),activation='relu'),\n",
        "                    tf.keras.layers.MaxPool2D(pool_size=(2,2)),\n",
        "                    tf.keras.layers.Flatten(),\n",
        "                    tf.keras.layers.Dense(128,activation='relu'),\n",
        "                    tf.keras.layers.Dense(64,activation='relu'),\n",
        "                    tf.keras.layers.Dense(5,activation='softmax')\n",
        "])\n",
        "Model.compile(optimizer='adam',loss='categorical_crossentropy',metrics=['accuracy'])"
      ],
      "execution_count": 0,
      "outputs": [
        {
          "output_type": "stream",
          "text": [
            "WARNING:tensorflow:From /usr/local/lib/python3.6/dist-packages/tensorflow_core/python/ops/resource_variable_ops.py:1630: calling BaseResourceVariable.__init__ (from tensorflow.python.ops.resource_variable_ops) with constraint is deprecated and will be removed in a future version.\n",
            "Instructions for updating:\n",
            "If using Keras pass *_constraint arguments to layers.\n"
          ],
          "name": "stdout"
        }
      ]
    },
    {
      "cell_type": "code",
      "metadata": {
        "id": "9GlsL9A1G4h5",
        "colab_type": "code",
        "outputId": "eb2d5100-c730-4b4d-ff72-73ffdaea3bb9",
        "colab": {
          "base_uri": "https://localhost:8080/",
          "height": 124
        }
      },
      "source": [
        "from google.colab import drive\n",
        "drive.mount('/content/drive')"
      ],
      "execution_count": 0,
      "outputs": [
        {
          "output_type": "stream",
          "text": [
            "Go to this URL in a browser: https://accounts.google.com/o/oauth2/auth?client_id=947318989803-6bn6qk8qdgf4n4g3pfee6491hc0brc4i.apps.googleusercontent.com&redirect_uri=urn%3aietf%3awg%3aoauth%3a2.0%3aoob&response_type=code&scope=email%20https%3a%2f%2fwww.googleapis.com%2fauth%2fdocs.test%20https%3a%2f%2fwww.googleapis.com%2fauth%2fdrive%20https%3a%2f%2fwww.googleapis.com%2fauth%2fdrive.photos.readonly%20https%3a%2f%2fwww.googleapis.com%2fauth%2fpeopleapi.readonly\n",
            "\n",
            "Enter your authorization code:\n",
            "··········\n",
            "Mounted at /content/drive\n"
          ],
          "name": "stdout"
        }
      ]
    },
    {
      "cell_type": "code",
      "metadata": {
        "id": "GazlDhniG5Uc",
        "colab_type": "code",
        "colab": {}
      },
      "source": [
        "import glob\n",
        "import numpy as np\n",
        "import cv2 \n",
        "directory = []\n",
        "image_data = []\n",
        "total_X = []\n",
        "total_Y =[]\n",
        "path = \"/content/drive/My Drive/data after cropping\"\n",
        "for i in range(1,5):\n",
        "  path2 = path +'/'+ str(i)\n",
        "  directory.append(path2)\n",
        "for i in range(len(directory)):\n",
        "  label = i+1\n",
        "  my_path = directory[i]+'/*/*'\n",
        "  for image in glob.glob(my_path):\n",
        "   img = cv2.imread(image)\n",
        "   total_X.append(img) \n",
        "   total_Y.append(label)\n",
        "  "
      ],
      "execution_count": 0,
      "outputs": []
    },
    {
      "cell_type": "code",
      "metadata": {
        "id": "4KPxww5wLWZX",
        "colab_type": "code",
        "outputId": "c0a7be77-2011-4f59-abfd-2a37ab9b2eb0",
        "colab": {
          "base_uri": "https://localhost:8080/",
          "height": 358
        }
      },
      "source": [
        "import numpy as np\n",
        "X_t = np.load('/content/drive/My Drive/odata.npy')\n",
        "Y_t = np.load('/content/drive/My Drive/ola.npy')\n",
        "\n",
        "X_t.shape"
      ],
      "execution_count": 0,
      "outputs": [
        {
          "output_type": "error",
          "ename": "FileNotFoundError",
          "evalue": "ignored",
          "traceback": [
            "\u001b[0;31m---------------------------------------------------------------------------\u001b[0m",
            "\u001b[0;31mFileNotFoundError\u001b[0m                         Traceback (most recent call last)",
            "\u001b[0;32m<ipython-input-6-27c4c52643d8>\u001b[0m in \u001b[0;36m<module>\u001b[0;34m()\u001b[0m\n\u001b[1;32m      1\u001b[0m \u001b[0;32mimport\u001b[0m \u001b[0mnumpy\u001b[0m \u001b[0;32mas\u001b[0m \u001b[0mnp\u001b[0m\u001b[0;34m\u001b[0m\u001b[0;34m\u001b[0m\u001b[0m\n\u001b[0;32m----> 2\u001b[0;31m \u001b[0mX_t\u001b[0m \u001b[0;34m=\u001b[0m \u001b[0mnp\u001b[0m\u001b[0;34m.\u001b[0m\u001b[0mload\u001b[0m\u001b[0;34m(\u001b[0m\u001b[0;34m'/content/drive/My Drive/odata.npy'\u001b[0m\u001b[0;34m)\u001b[0m\u001b[0;34m\u001b[0m\u001b[0;34m\u001b[0m\u001b[0m\n\u001b[0m\u001b[1;32m      3\u001b[0m \u001b[0mY_t\u001b[0m \u001b[0;34m=\u001b[0m \u001b[0mnp\u001b[0m\u001b[0;34m.\u001b[0m\u001b[0mload\u001b[0m\u001b[0;34m(\u001b[0m\u001b[0;34m'/content/drive/My Drive/ola.npy'\u001b[0m\u001b[0;34m)\u001b[0m\u001b[0;34m\u001b[0m\u001b[0;34m\u001b[0m\u001b[0m\n\u001b[1;32m      4\u001b[0m \u001b[0;34m\u001b[0m\u001b[0m\n\u001b[1;32m      5\u001b[0m \u001b[0mX_t\u001b[0m\u001b[0;34m.\u001b[0m\u001b[0mshape\u001b[0m\u001b[0;34m\u001b[0m\u001b[0;34m\u001b[0m\u001b[0m\n",
            "\u001b[0;32m/usr/local/lib/python3.6/dist-packages/numpy/lib/npyio.py\u001b[0m in \u001b[0;36mload\u001b[0;34m(file, mmap_mode, allow_pickle, fix_imports, encoding)\u001b[0m\n\u001b[1;32m    426\u001b[0m         \u001b[0mown_fid\u001b[0m \u001b[0;34m=\u001b[0m \u001b[0;32mFalse\u001b[0m\u001b[0;34m\u001b[0m\u001b[0;34m\u001b[0m\u001b[0m\n\u001b[1;32m    427\u001b[0m     \u001b[0;32melse\u001b[0m\u001b[0;34m:\u001b[0m\u001b[0;34m\u001b[0m\u001b[0;34m\u001b[0m\u001b[0m\n\u001b[0;32m--> 428\u001b[0;31m         \u001b[0mfid\u001b[0m \u001b[0;34m=\u001b[0m \u001b[0mopen\u001b[0m\u001b[0;34m(\u001b[0m\u001b[0mos_fspath\u001b[0m\u001b[0;34m(\u001b[0m\u001b[0mfile\u001b[0m\u001b[0;34m)\u001b[0m\u001b[0;34m,\u001b[0m \u001b[0;34m\"rb\"\u001b[0m\u001b[0;34m)\u001b[0m\u001b[0;34m\u001b[0m\u001b[0;34m\u001b[0m\u001b[0m\n\u001b[0m\u001b[1;32m    429\u001b[0m         \u001b[0mown_fid\u001b[0m \u001b[0;34m=\u001b[0m \u001b[0;32mTrue\u001b[0m\u001b[0;34m\u001b[0m\u001b[0;34m\u001b[0m\u001b[0m\n\u001b[1;32m    430\u001b[0m \u001b[0;34m\u001b[0m\u001b[0m\n",
            "\u001b[0;31mFileNotFoundError\u001b[0m: [Errno 2] No such file or directory: '/content/drive/My Drive/odata.npy'"
          ]
        }
      ]
    },
    {
      "cell_type": "code",
      "metadata": {
        "id": "7xp0G4KsIxT7",
        "colab_type": "code",
        "colab": {}
      },
      "source": [
        "X_t = X_t.astype(np.float16)\n",
        "Y_t = Y_t.astype(np.int16)"
      ],
      "execution_count": 0,
      "outputs": []
    },
    {
      "cell_type": "code",
      "metadata": {
        "id": "iMjSNHTiHCQJ",
        "colab_type": "code",
        "colab": {}
      },
      "source": [
        "import numpy as np\n",
        "from sklearn.model_selection import train_test_split\n",
        "import gc\n",
        "\n",
        "X_train,X_test,Y_train,Y_test = train_test_split(X_t,Y_t,test_size = 0.25) \n",
        "Y_train = np_utils.to_categorical(Y_train,5)\n",
        "Y_test = np_utils.to_categorical(Y_test,5)\n",
        "gc.collect() \n",
        "del X_t\n",
        "del Y_t\n"
      ],
      "execution_count": 0,
      "outputs": []
    },
    {
      "cell_type": "code",
      "metadata": {
        "id": "DMRINNfhJs6E",
        "colab_type": "code",
        "colab": {}
      },
      "source": [
        "X_train = X_train/255.\n",
        "X_test = X_test/255.\n",
        "X_train = X_train.astype(np.float16)\n",
        "X_test = X_test.astype(np.float16)"
      ],
      "execution_count": 0,
      "outputs": []
    },
    {
      "cell_type": "code",
      "metadata": {
        "id": "sLEDS_7aN2-u",
        "colab_type": "code",
        "outputId": "63b4081e-ad3f-4125-f7c3-29fedda40bb5",
        "colab": {
          "base_uri": "https://localhost:8080/",
          "height": 391
        }
      },
      "source": [
        "#gen = ImageDataGenerator(rotation_range=8,width_shift_range=0.08, shear_range=0.3,height_shift_range=0.08, zoom_range=0.08)\n",
        "#test_gen = ImageDataGenerator()\n",
        "#train_generator = gen.flow(X_train, Y_train,batch_size = 2)\n",
        "#test_generator = test_gen.flow(X_test,Y_test,batch_size = 2)\n",
        "\n",
        "Model.fit(X_train,Y_train,batch_size=16,epochs=10)\n"
      ],
      "execution_count": 0,
      "outputs": [
        {
          "output_type": "stream",
          "text": [
            "Train on 1201 samples\n",
            "Epoch 1/10\n",
            "1201/1201 [==============================] - 249s 207ms/sample - loss: 2.3740 - acc: 0.3056\n",
            "Epoch 2/10\n",
            "1201/1201 [==============================] - 248s 207ms/sample - loss: 0.9389 - acc: 0.5412\n",
            "Epoch 3/10\n",
            "1201/1201 [==============================] - 249s 207ms/sample - loss: 0.7770 - acc: 0.5928\n",
            "Epoch 4/10\n",
            "1201/1201 [==============================] - 247s 206ms/sample - loss: 0.7118 - acc: 0.6511\n",
            "Epoch 5/10\n",
            "1201/1201 [==============================] - 248s 206ms/sample - loss: 0.6222 - acc: 0.7036\n",
            "Epoch 6/10\n",
            "1201/1201 [==============================] - 248s 206ms/sample - loss: 0.6583 - acc: 0.6611\n",
            "Epoch 7/10\n",
            "1201/1201 [==============================] - 248s 207ms/sample - loss: 0.5439 - acc: 0.7427\n",
            "Epoch 8/10\n",
            "1201/1201 [==============================] - 247s 206ms/sample - loss: 0.5208 - acc: 0.7527\n",
            "Epoch 9/10\n",
            "1201/1201 [==============================] - 246s 205ms/sample - loss: 0.5161 - acc: 0.7677\n",
            "Epoch 10/10\n",
            "1201/1201 [==============================] - 247s 205ms/sample - loss: 0.4463 - acc: 0.8193\n"
          ],
          "name": "stdout"
        },
        {
          "output_type": "execute_result",
          "data": {
            "text/plain": [
              "<tensorflow.python.keras.callbacks.History at 0x7f1ce3e0b748>"
            ]
          },
          "metadata": {
            "tags": []
          },
          "execution_count": 11
        }
      ]
    },
    {
      "cell_type": "code",
      "metadata": {
        "id": "xiWYRYwx6t9L",
        "colab_type": "code",
        "outputId": "6baf056c-c877-447e-b7f3-3b76cc9d3775",
        "colab": {
          "base_uri": "https://localhost:8080/",
          "height": 51
        }
      },
      "source": [
        "Model.evaluate(X_test,Y_test)"
      ],
      "execution_count": 0,
      "outputs": [
        {
          "output_type": "stream",
          "text": [
            "401/401 [==============================] - 14s 36ms/sample - loss: 0.5580 - acc: 0.7606\n"
          ],
          "name": "stdout"
        },
        {
          "output_type": "execute_result",
          "data": {
            "text/plain": [
              "[0.5580332385482931, 0.7605985]"
            ]
          },
          "metadata": {
            "tags": []
          },
          "execution_count": 12
        }
      ]
    },
    {
      "cell_type": "code",
      "metadata": {
        "id": "7IsmqdwJ60fq",
        "colab_type": "code",
        "colab": {}
      },
      "source": [
        "Model = tf.keras.models.Sequential([\n",
        "                    tf.keras.layers.Conv2D(filters=16,kernel_size = (3,3),activation='relu',input_shape = (800,800,3)),\n",
        "                    tf.keras.layers.MaxPool2D(pool_size=(2,2)),\n",
        "                    tf.keras.layers.BatchNormalization(),\n",
        "                    tf.keras.layers.Conv2D(filters=32,kernel_size=(3,3),activation ='relu'),\n",
        "                    tf.keras.layers.MaxPool2D(pool_size =(2,2)),\n",
        "                    \n",
        "                    #tf.keras.layers.MaxPool2D(pool_size=(2,2)),\n",
        "                    tf.keras.layers.Flatten(),\n",
        "                    tf.keras.layers.Dense(32,activation='relu'),\n",
        "                    #tf.keras.layers.Dropout(0.2),\n",
        "                    tf.keras.layers.Dense(16,activation='relu'),\n",
        "                    tf.keras.layers.Dense(5,activation='softmax')\n",
        "])"
      ],
      "execution_count": 0,
      "outputs": []
    }
  ]
}